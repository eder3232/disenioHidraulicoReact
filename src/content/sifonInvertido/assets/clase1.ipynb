{
 "cells": [
  {
   "cell_type": "markdown",
   "metadata": {},
   "source": [
    "Un sifon invertido para cruazor un abarranco, consiste en una tuberia de acero soldado de 1.5m de diametro, el gasto maximo es de 5 m3/s y la velocidad en la tuberia es el doble de la velocidad en los canales de llegada y salida. Determinar el desnivel delta z entre las plantillas de los dos canales, viscosidad relativa = 1.145 x 10-6, rugosidad=1.33mm"
   ]
  }
 ],
 "metadata": {
  "language_info": {
   "name": "python"
  },
  "orig_nbformat": 4
 },
 "nbformat": 4,
 "nbformat_minor": 2
}
